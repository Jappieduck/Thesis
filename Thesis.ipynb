{
 "cells": [
  {
   "cell_type": "markdown",
   "id": "4f306365-51ee-4cd1-9998-0c5f75a04bdd",
   "metadata": {},
   "source": [
    "Here are some definitions needed for the computations"
   ]
  },
  {
   "cell_type": "code",
   "execution_count": 2,
   "id": "3207503a-5040-4325-9392-d2cf73ff0f01",
   "metadata": {},
   "outputs": [],
   "source": [
    "r = 3\n",
    "n = 3\n",
    "x, z = var('x z')\n",
    "indices = [(i,j) for i in range(n) for j in range(n)]"
   ]
  },
  {
   "cell_type": "code",
   "execution_count": 3,
   "id": "3e9d0165-e50b-4c96-aa26-58a1b3d9edea",
   "metadata": {},
   "outputs": [],
   "source": [
    "a_var = [var('a_{}_{}'.format(i,j), latex_name='a_{{{},{}}}'.format(i,j)) for (i,j) in indices]\n",
    "a = dict(zip(indices, a_var))"
   ]
  },
  {
   "cell_type": "code",
   "execution_count": 4,
   "id": "bc57d218-3a8b-4e44-99a6-ab556629f68a",
   "metadata": {},
   "outputs": [],
   "source": [
    "b_var = [var('b_{}_{}'.format(i,j), latex_name='b_{{{},{}}}'.format(i,j)) for (i,j) in indices]\n",
    "b = dict(zip(indices, b_var))"
   ]
  },
  {
   "cell_type": "code",
   "execution_count": 5,
   "id": "c33fe1f1-80c3-4623-8137-67f9dc3316a6",
   "metadata": {},
   "outputs": [],
   "source": [
    "c_var = [var('c_{}_{}'.format(i,j), latex_name='c_{{{},{}}}'.format(i,j)) for (i,j) in indices]\n",
    "c = dict(zip(indices, c_var))"
   ]
  },
  {
   "cell_type": "code",
   "execution_count": 6,
   "id": "5e6550ac-50c9-4e1e-a2fd-ecc174adca4f",
   "metadata": {},
   "outputs": [],
   "source": [
    "def ai(soort, index):\n",
    "    i0, j0 = index\n",
    "    if soort == 1:\n",
    "        i = i0\n",
    "        j = j0\n",
    "        return a[i, j] / c[i, j]\n",
    "    elif soort == 2:\n",
    "        i = 2 * n - j0 - 1\n",
    "        j = i0 + i - n\n",
    "        return b[i % r, j % r] / a[i % r, j % r]\n",
    "    elif soort == 3:\n",
    "        if j0 + 1 >= i0:\n",
    "            i = n + j0 - i0\n",
    "            j = 2 * n - j0 - 1 + i - n\n",
    "        else:\n",
    "            i = n + j0 - i0\n",
    "            j = 2 * n - i0 - 1\n",
    "        return c[i % r, j % r] / b[i % r, j % r]"
   ]
  },
  {
   "cell_type": "code",
   "execution_count": 7,
   "id": "6fa087fd-8723-42e5-99ba-e1a4c2d32052",
   "metadata": {},
   "outputs": [],
   "source": [
    "def bi(soort, index):\n",
    "    i0, j0 = index\n",
    "    if soort == 1:\n",
    "        i = i0\n",
    "        j = j0\n",
    "        return b[i, j] / c[i, j]\n",
    "    elif soort == 2:\n",
    "        i = 2 * n - j0 - 1\n",
    "        j = i0 + i - n\n",
    "        return c[i % r, j % r] / a[i % r, j % r]\n",
    "    elif soort == 3:\n",
    "        if j0 + 1 >= i0:\n",
    "            i = n + j0 - i0\n",
    "            j = 2 * n - j0 - 1 + i - n\n",
    "        else:\n",
    "            i = n + j0 - i0\n",
    "            j = 2 * n - i0 - 1\n",
    "        return a[i % r, j % r] / b[i % r, j % r]"
   ]
  },
  {
   "cell_type": "code",
   "execution_count": 8,
   "id": "be45c378-e22f-4d00-8247-28746f25f667",
   "metadata": {},
   "outputs": [],
   "source": [
    "def T(m, var, soort):\n",
    "    matrix = zero_matrix(SR, n); matrix\n",
    "    for k in range(0, n):\n",
    "        if k != n - 1:\n",
    "            matrix[k, k] = ai(soort, (m - 1, k))\n",
    "            matrix[k, (k + 1) % n] = bi(soort, (m - 1, k))\n",
    "        else:\n",
    "            matrix[k, k] = ai(soort, (m - 1, k))\n",
    "            matrix[k, (k + 1) % n] = bi(soort, (m - 1, k)) * var\n",
    "    return matrix"
   ]
  },
  {
   "cell_type": "code",
   "execution_count": 9,
   "id": "3ee531c4-3b8c-4bbc-a1dd-70b09c503968",
   "metadata": {},
   "outputs": [],
   "source": [
    "def W(var, soort):\n",
    "    W = 1\n",
    "    for i in range(1, r+1):\n",
    "        W = W * T(i, var, soort)\n",
    "    return W"
   ]
  },
  {
   "cell_type": "code",
   "execution_count": 10,
   "id": "add71741-f79b-4800-ad23-55fbfcf87bd1",
   "metadata": {},
   "outputs": [],
   "source": [
    "def writeMatrix(matrix):\n",
    "    newstring = \"\\\\begin{pmatrix}\\n\"\n",
    "    n, m = matrix.dimensions()\n",
    "    for i in range(n):\n",
    "        newstring = newstring + \"   \"\n",
    "        for j in range(m):\n",
    "            newstring = newstring + latex(matrix[i, j]) + \" \"\n",
    "            if j != m - 1:\n",
    "                newstring = newstring + \"& \"\n",
    "        if i != n-1:\n",
    "            newstring = newstring + \"\\\\\\\\\" + \"\\n\"\n",
    "        else:\n",
    "            newstring = newstring + \"\\n\"\n",
    "    newstring = newstring + \"\\\\end{pmatrix}\"\n",
    "    return newstring"
   ]
  },
  {
   "cell_type": "code",
   "execution_count": 11,
   "id": "44fb6b45-4a6c-4fa7-9dde-b146b8767fb5",
   "metadata": {},
   "outputs": [],
   "source": [
    "B_var = [var('B_{}_{}'.format(i,j), latex_name='B_{{{},{}}}'.format(i,j)) for (i,j) in indices]\n",
    "B_vals = dict(zip(indices, B_var))\n",
    "B = Matrix(SR, n, n, B_vals)"
   ]
  },
  {
   "cell_type": "code",
   "execution_count": 12,
   "id": "0ea1a8f7-b5fc-4f31-af76-1d0babcfd0ee",
   "metadata": {},
   "outputs": [],
   "source": [
    "C_var = [var('C_{}_{}'.format(i,j), latex_name='C_{{{},{}}}'.format(i,j)) for (i,j) in indices]\n",
    "C_vals = dict(zip(indices, C_var))\n",
    "C = Matrix(SR, n, n, C_vals)"
   ]
  },
  {
   "cell_type": "code",
   "execution_count": 13,
   "id": "dafc08c6-0ee1-47a8-9bd2-53be54f33e6c",
   "metadata": {},
   "outputs": [],
   "source": [
    "D_var = [var('D_{}_{}'.format(i,j), latex_name='D_{{{},{}}}'.format(i,j)) for (i,j) in indices]\n",
    "D_vals = dict(zip(indices, D_var))\n",
    "D = Matrix(SR, n, n, D_vals)"
   ]
  },
  {
   "cell_type": "markdown",
   "id": "4c7bc129-4e97-4e5d-8dfc-c0222607018e",
   "metadata": {},
   "source": [
    "We want the following three matrix equations to hold"
   ]
  },
  {
   "cell_type": "code",
   "execution_count": 14,
   "id": "54bec755-73f7-45b5-aaa7-86f9cd0877fd",
   "metadata": {},
   "outputs": [],
   "source": [
    "M1 = T(1, z, 1) - T(1, z, 2)*B\n",
    "M2 = B*T(2, z, 1) - T(2, z, 2)*C\n",
    "M3 = C*T(3, z, 1) - T(3, z, 2)*D"
   ]
  },
  {
   "cell_type": "markdown",
   "id": "f252a1df-d8bd-4efc-b53f-db8413c25be2",
   "metadata": {},
   "source": [
    "Let us split the equations inside the matrix to find B, C and D"
   ]
  },
  {
   "cell_type": "code",
   "execution_count": 15,
   "id": "029e6793-798d-4c49-a65d-ce1cf455f8b0",
   "metadata": {},
   "outputs": [],
   "source": [
    "eq1 = []\n",
    "eq2 = []\n",
    "eq3 = []\n",
    "varB = []\n",
    "varC = []\n",
    "varD = []\n",
    "for i in range(n):\n",
    "    for j in range(n):\n",
    "        eq1.append(M1[i, j])\n",
    "        eq2.append(M2[i, j])\n",
    "        eq3.append(M3[i, j])\n",
    "        varB.append(B[i, j])\n",
    "        varC.append(C[i, j])\n",
    "        varD.append(D[i, j])"
   ]
  },
  {
   "cell_type": "code",
   "execution_count": 16,
   "id": "289cbd06-1c5d-4e54-94be-9e19da80a9a4",
   "metadata": {},
   "outputs": [],
   "source": [
    "def writeEqSet(number):\n",
    "    code = \"\\\\begin{cases}\\n\"\n",
    "    if number == 1:\n",
    "        for eq in eq1:\n",
    "            code = code + \"   \" + latex(eq) + \" = 0\" + '\\\\\\\\\\n'\n",
    "    elif number == 2:\n",
    "        for eq in eq2:\n",
    "            code = code + \"   \" + latex(eq) + \" = 0\" + '\\\\\\\\\\n'\n",
    "    else:\n",
    "        for eq in eq3:\n",
    "            code = code + \"   \" + latex(eq) + \" = 0\" + '\\\\\\\\\\n'\n",
    "    code = code + \"\\\\end{cases}\"\n",
    "    return code"
   ]
  },
  {
   "cell_type": "markdown",
   "id": "2742a5e1-6e0e-43e0-a50f-b1a2463274e5",
   "metadata": {},
   "source": [
    "We solve for B"
   ]
  },
  {
   "cell_type": "code",
   "execution_count": 18,
   "id": "e443af69-3c21-4d1c-b225-0b11084301eb",
   "metadata": {},
   "outputs": [],
   "source": [
    "solB = solve(eq1, varB)\n",
    "B = B.subs(solB)"
   ]
  },
  {
   "cell_type": "markdown",
   "id": "f1946d5c-e3d6-493c-a7f2-9f4892c89931",
   "metadata": {},
   "source": [
    "We solve for C. Remark, C is dependent on B"
   ]
  },
  {
   "cell_type": "code",
   "execution_count": 19,
   "id": "7d99888e-1ad4-4ba5-9590-75c1cdcd313c",
   "metadata": {},
   "outputs": [],
   "source": [
    "solC = solve(eq2, varC)\n",
    "C = C.subs(solC)"
   ]
  },
  {
   "cell_type": "markdown",
   "id": "2f939420-15ff-4c07-9210-fc2fa2107cc6",
   "metadata": {},
   "source": [
    "We solve for D. Remark, D is dependent on C and thus of B"
   ]
  },
  {
   "cell_type": "code",
   "execution_count": 20,
   "id": "cb44f851-042c-47e5-83ab-f8fc0b07cd1c",
   "metadata": {},
   "outputs": [],
   "source": [
    "solD = solve(eq3, varD)\n",
    "D = D.subs(solD)"
   ]
  },
  {
   "cell_type": "code",
   "execution_count": 22,
   "id": "23849256-f2a8-45fc-97df-dec43c9251d5",
   "metadata": {},
   "outputs": [],
   "source": [
    "W1 = W(z, 1)\n",
    "W2 = W(z, 2)\n",
    "W3 = W(z, 3)\n",
    "\n",
    "indexen = [(i,j) for i in range(1, n+1) for j in range(1, n+1)]\n",
    "T_var = [var('Ts_{}_{}'.format(i,j)) for (i,j) in indices]\n",
    "Ts = dict(zip(indices, a_var))\n",
    "for i in range(1, n+1):\n",
    "    for j in range(1, n+1):\n",
    "        Ts[i,j] = T(i, z, j)"
   ]
  },
  {
   "cell_type": "markdown",
   "id": "6d559230-20c7-4eb4-be69-2aa2e40340c3",
   "metadata": {},
   "source": [
    "We check that the conditions indeed hold"
   ]
  },
  {
   "cell_type": "code",
   "execution_count": 23,
   "id": "cf1d27c4-cb14-4d01-b576-d208444598e3",
   "metadata": {},
   "outputs": [
    {
     "data": {
      "text/html": [
       "<html>\\(\\displaystyle \\mathrm{True}\\)</html>"
      ],
      "text/latex": [
       "$\\displaystyle \\mathrm{True}$"
      ],
      "text/plain": [
       "True"
      ]
     },
     "metadata": {},
     "output_type": "display_data"
    },
    {
     "data": {
      "text/html": [
       "<html>\\(\\displaystyle \\mathrm{True}\\)</html>"
      ],
      "text/latex": [
       "$\\displaystyle \\mathrm{True}$"
      ],
      "text/plain": [
       "True"
      ]
     },
     "metadata": {},
     "output_type": "display_data"
    },
    {
     "data": {
      "text/html": [
       "<html>\\(\\displaystyle \\mathrm{True}\\)</html>"
      ],
      "text/latex": [
       "$\\displaystyle \\mathrm{True}$"
      ],
      "text/plain": [
       "True"
      ]
     },
     "metadata": {},
     "output_type": "display_data"
    }
   ],
   "source": [
    "C = C.subs(solB)\n",
    "D = D.subs(solC)\n",
    "D = D.subs(solB)\n",
    "\n",
    "show(Ts[1, 1] == Ts[1, 2]*B)\n",
    "show(B*Ts[2, 1] == Ts[2, 2]*C)\n",
    "show(C*Ts[3, 1] == Ts[3, 2]*D)"
   ]
  },
  {
   "cell_type": "markdown",
   "id": "5ae83d08-bbe4-4b61-9b52-5cda2913a0b4",
   "metadata": {},
   "source": [
    "Lastly, we were searching D such that the following holds"
   ]
  },
  {
   "cell_type": "code",
   "execution_count": 24,
   "id": "6fb5a64a-64d5-4cf9-83de-63c1bed3c482",
   "metadata": {},
   "outputs": [
    {
     "data": {
      "text/html": [
       "<html>\\(\\displaystyle \\mathrm{True}\\)</html>"
      ],
      "text/latex": [
       "$\\displaystyle \\mathrm{True}$"
      ],
      "text/plain": [
       "True"
      ]
     },
     "metadata": {},
     "output_type": "display_data"
    }
   ],
   "source": [
    "show(W1 == W2*D)"
   ]
  },
  {
   "cell_type": "markdown",
   "id": "bd7e21e9-9ab6-4c63-8a77-a95769f81dce",
   "metadata": {},
   "source": [
    "We cannot conjugate them, because their characteristic polynomials differ"
   ]
  },
  {
   "cell_type": "code",
   "execution_count": 26,
   "id": "41b12eb3-d300-45a0-9212-edd433f12c3e",
   "metadata": {},
   "outputs": [],
   "source": [
    "def comparePoly(p, q):\n",
    "    dp = p.degree()\n",
    "    dq = q.degree()\n",
    "\n",
    "    coeffp = p.coefficients(sparse=False)\n",
    "    coeffq = q.coefficients(sparse=False)\n",
    "    if dp != dq:\n",
    "        return False\n",
    "    else:\n",
    "        for i in range(dp):\n",
    "            if coeffp[i] != coeffq[i]:\n",
    "                return False\n",
    "    return True"
   ]
  },
  {
   "cell_type": "code",
   "execution_count": 28,
   "id": "6c79f687-f4f2-48a0-b97b-0883b1b89726",
   "metadata": {},
   "outputs": [
    {
     "data": {
      "text/html": [
       "<html>\\(\\displaystyle \\mathrm{False}\\)</html>"
      ],
      "text/latex": [
       "$\\displaystyle \\mathrm{False}$"
      ],
      "text/plain": [
       "False"
      ]
     },
     "metadata": {},
     "output_type": "display_data"
    }
   ],
   "source": [
    "p1 = W1.charpoly()\n",
    "p2 = W2.charpoly()\n",
    "\n",
    "show(comparePoly(p1, p2))"
   ]
  }
 ],
 "metadata": {
  "kernelspec": {
   "display_name": "SageMath 10.4",
   "language": "sage",
   "name": "sagemath"
  },
  "language_info": {
   "codemirror_mode": {
    "name": "ipython",
    "version": 3
   },
   "file_extension": ".py",
   "mimetype": "text/x-python",
   "name": "python",
   "nbconvert_exporter": "python",
   "pygments_lexer": "ipython3",
   "version": "3.11.11"
  }
 },
 "nbformat": 4,
 "nbformat_minor": 5
}
